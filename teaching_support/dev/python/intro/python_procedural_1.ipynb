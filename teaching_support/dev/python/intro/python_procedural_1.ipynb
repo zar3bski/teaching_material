{
 "cells": [
  {
   "cell_type": "markdown",
   "metadata": {},
   "source": [
    "# Premiers pas dans la programmation avec python\n",
    "\n",
    "\n",
    "## Quelques notions générales (pas propres à Python)\n",
    "\n",
    "Dans n'importe quel langage de programmation, on distingue  \n",
    "<ul>\n",
    "<li> les <b>variables</b>: symbole utilisé pour stocker une valeur en mémoire\n",
    "<li> des <b>valeurs</b>: \"données\" attachées à des variables (il en existe de multiples formes)\n",
    "</ul>\n",
    "\n",
    "En d'autres termes, les variables \"portent\" les valeurs que l'on leur attribut. En python, on associe les valeurs aux variables à l'aide du symbole ="
   ]
  },
  {
   "cell_type": "code",
   "execution_count": 4,
   "metadata": {},
   "outputs": [
    {
     "name": "stdout",
     "output_type": "stream",
     "text": [
      "3\n"
     ]
    }
   ],
   "source": [
    "a = 3\n",
    "print(a)"
   ]
  },
  {
   "cell_type": "markdown",
   "metadata": {},
   "source": [
    "On donne ainsi à <b>a </b> (variable) la valeur 3. Notez qu'une variable peut changer de valeur comme de chemise. Il suffit pour cela de la définir de nouveau:"
   ]
  },
  {
   "cell_type": "code",
   "execution_count": 5,
   "metadata": {},
   "outputs": [
    {
     "name": "stdout",
     "output_type": "stream",
     "text": [
      "4\n"
     ]
    }
   ],
   "source": [
    "a = 4\n",
    "print(a)"
   ]
  },
  {
   "cell_type": "markdown",
   "metadata": {},
   "source": [
    "Pour des raisons presque logiques, l'interpréteur de votre script (ce qui l'exécute pour faire faire les calcul par votre CPU) est incapable de vous retourner les valeurs d'une variable non-définie. Normal, vous ne l'avez pas encore définie (c'est ce que vous retournera l'interpréteur: <code>name 'b' is not defined</code>)!"
   ]
  },
  {
   "cell_type": "code",
   "execution_count": 3,
   "metadata": {},
   "outputs": [
    {
     "ename": "NameError",
     "evalue": "name 'b' is not defined",
     "output_type": "error",
     "traceback": [
      "\u001b[0;31m---------------------------------------------------------------------------\u001b[0m",
      "\u001b[0;31mNameError\u001b[0m                                 Traceback (most recent call last)",
      "\u001b[0;32m<ipython-input-3-67e500defa1b>\u001b[0m in \u001b[0;36m<module>\u001b[0;34m()\u001b[0m\n\u001b[0;32m----> 1\u001b[0;31m \u001b[0mprint\u001b[0m\u001b[0;34m(\u001b[0m\u001b[0mb\u001b[0m\u001b[0;34m)\u001b[0m\u001b[0;34m\u001b[0m\u001b[0m\n\u001b[0m",
      "\u001b[0;31mNameError\u001b[0m: name 'b' is not defined"
     ]
    }
   ],
   "source": [
    "print(b)"
   ]
  },
  {
   "cell_type": "markdown",
   "metadata": {},
   "source": [
    "Venons en aux valeurs, mainenant. Dans un langage <a href = \"https://fr.wikipedia.org/wiki/Typage_fort\">typé</a> comme python (et bien d'autre), chaque valeur possède un <b>type</b>. Nous citerions principalement i) les entiers (int pour \"integers\"), ii) les nombres réels (ou float pour \"flottant\") et iii) les chaînes de caractère (str pour \"string\") et les iv) booléens (valeurs Vrai/Faux: bool)"
   ]
  },
  {
   "cell_type": "code",
   "execution_count": 6,
   "metadata": {},
   "outputs": [],
   "source": [
    "a = 3\n",
    "b = 3.14\n",
    "c = \"trois\"\n",
    "d = True"
   ]
  },
  {
   "cell_type": "markdown",
   "metadata": {},
   "source": [
    "On peut à tout moment s'assurer du type d'une variable avec la fonction <b>type()</b>"
   ]
  },
  {
   "cell_type": "code",
   "execution_count": 7,
   "metadata": {},
   "outputs": [
    {
     "name": "stdout",
     "output_type": "stream",
     "text": [
      "type de a:  <class 'int'>\n",
      "type de b:  <class 'float'>\n",
      "type de c:  <class 'str'>\n",
      "type de d:  <class 'bool'>\n"
     ]
    }
   ],
   "source": [
    "print(\"type de a: \",type(a))\n",
    "print(\"type de b: \",type(b))\n",
    "print(\"type de c: \",type(c))\n",
    "print(\"type de d: \",type(d))"
   ]
  },
  {
   "cell_type": "markdown",
   "metadata": {},
   "source": [
    "## Opérations \n",
    "Il est possible d'effectuer des opérations simples (notament mathématiques) sur des variables définies. Par chance, la syntaxe de python est très proches de celle de nos mathématiques \"humaines\"......."
   ]
  },
  {
   "cell_type": "code",
   "execution_count": 8,
   "metadata": {},
   "outputs": [],
   "source": [
    "a , b = 3, 4\n",
    "c = \"Supercalifragi\"\n",
    "d = \"listicexpialidocious\""
   ]
  },
  {
   "cell_type": "code",
   "execution_count": 9,
   "metadata": {},
   "outputs": [
    {
     "data": {
      "text/plain": [
       "(-1, 7, 12)"
      ]
     },
     "execution_count": 9,
     "metadata": {},
     "output_type": "execute_result"
    }
   ],
   "source": [
    "a - b, a+b, a*b"
   ]
  },
  {
   "cell_type": "markdown",
   "metadata": {},
   "source": [
    "...... avec toutefois quelques nuances propres à la logique de notre langage et le type de variables en question. En effet, + appliqué à des <b>str</b> ne correspond pas à une <b>somme arithmétique</b> mais à une <b>concatenation de chaines de caratères</b>"
   ]
  },
  {
   "cell_type": "code",
   "execution_count": 10,
   "metadata": {},
   "outputs": [
    {
     "data": {
      "text/plain": [
       "'Supercalifragilisticexpialidocious'"
      ]
     },
     "execution_count": 10,
     "metadata": {},
     "output_type": "execute_result"
    }
   ],
   "source": [
    "c +d"
   ]
  },
  {
   "cell_type": "markdown",
   "metadata": {},
   "source": [
    "Il n'est, du coup, pas possible de faire: (du fait que ça n'a pas de sens)"
   ]
  },
  {
   "cell_type": "code",
   "execution_count": 11,
   "metadata": {},
   "outputs": [
    {
     "ename": "TypeError",
     "evalue": "unsupported operand type(s) for -: 'str' and 'str'",
     "output_type": "error",
     "traceback": [
      "\u001b[0;31m---------------------------------------------------------------------------\u001b[0m",
      "\u001b[0;31mTypeError\u001b[0m                                 Traceback (most recent call last)",
      "\u001b[0;32m<ipython-input-11-e33c52a5f238>\u001b[0m in \u001b[0;36m<module>\u001b[0;34m()\u001b[0m\n\u001b[0;32m----> 1\u001b[0;31m \u001b[0mc\u001b[0m\u001b[0;34m-\u001b[0m\u001b[0md\u001b[0m\u001b[0;34m\u001b[0m\u001b[0m\n\u001b[0m",
      "\u001b[0;31mTypeError\u001b[0m: unsupported operand type(s) for -: 'str' and 'str'"
     ]
    }
   ],
   "source": [
    "c-d"
   ]
  },
  {
   "cell_type": "markdown",
   "metadata": {},
   "source": [
    "## La notion de structure de donnée (tuples, listes et dictionnaires)\n",
    "\n",
    "Nous avons jusqu'à présent vu comment associer des valeurs à une variable. Mais nombreux sont les cas où nous avons besoin de \"stocker\" plusieurs valeurs au \"même endroit\" (i.e. dans la même variable). C'est ici que les <a href=\"https://fr.wikipedia.org/wiki/Structure_de_donn%C3%A9es\">structures de données</a> interviennent."
   ]
  },
  {
   "cell_type": "code",
   "execution_count": 14,
   "metadata": {},
   "outputs": [],
   "source": [
    "a = 2.5,4,3    # ces deux définitions sont totalement équivalentes\n",
    "b = (2,4,3)"
   ]
  },
  {
   "cell_type": "code",
   "execution_count": 18,
   "metadata": {},
   "outputs": [
    {
     "name": "stdout",
     "output_type": "stream",
     "text": [
      "(2.5, 4, 3)\n"
     ]
    }
   ],
   "source": [
    "print(a)"
   ]
  },
  {
   "cell_type": "markdown",
   "metadata": {},
   "source": [
    "De même que l'on peut classer de la paperasse selon différentes logiques (ordre temporel, arboresence, etc), de même peut on structurer des valeurs d'après des structures plus ou moins complèxes. La plus simple, est de concevoir une simple collection, ce que nous venons de faire en définissant <b>b</b>"
   ]
  },
  {
   "cell_type": "code",
   "execution_count": 19,
   "metadata": {},
   "outputs": [
    {
     "name": "stdout",
     "output_type": "stream",
     "text": [
      "<class 'tuple'>\n"
     ]
    }
   ],
   "source": [
    "print(type(b))"
   ]
  },
  {
   "cell_type": "markdown",
   "metadata": {},
   "source": [
    "b est un <a href=\"https://fr.wikipedia.org/wiki/N-uplet\">tuple</a>, une simple collection de valeurs organisées d'après leur ordre dans la définition. On peut ainsi \"extraire\" les membres de cette collection par leur position (<b>Attention</b>: on compte à partir de 0)"
   ]
  },
  {
   "cell_type": "code",
   "execution_count": 20,
   "metadata": {},
   "outputs": [
    {
     "data": {
      "text/plain": [
       "2"
      ]
     },
     "execution_count": 20,
     "metadata": {},
     "output_type": "execute_result"
    }
   ],
   "source": [
    "b[0]"
   ]
  },
  {
   "cell_type": "markdown",
   "metadata": {},
   "source": [
    "Le problème des <b>tuples</b>, c'est qu'une fois la position d'une valeur fixée, il devient impossible de la changer à moins de définir de nouveau tout le tuple. Les <b>listes</b> offrent davantage de souplesse. En python, on défini une liste à l'aide des symboles []"
   ]
  },
  {
   "cell_type": "code",
   "execution_count": 20,
   "metadata": {},
   "outputs": [
    {
     "name": "stdout",
     "output_type": "stream",
     "text": [
      "<class 'list'>\n",
      "6\n"
     ]
    }
   ],
   "source": [
    "c = [1,6,7,4]\n",
    "\n",
    "print(type(c))\n",
    "print(c[1])"
   ]
  },
  {
   "cell_type": "markdown",
   "metadata": {},
   "source": [
    "et les différentes méthodes de cette objet permettront d'inverser l'ordre des éléments...."
   ]
  },
  {
   "cell_type": "code",
   "execution_count": 21,
   "metadata": {},
   "outputs": [
    {
     "data": {
      "text/plain": [
       "[4, 7, 6, 1]"
      ]
     },
     "execution_count": 21,
     "metadata": {},
     "output_type": "execute_result"
    }
   ],
   "source": [
    "c.reverse()\n",
    "c"
   ]
  },
  {
   "cell_type": "markdown",
   "metadata": {},
   "source": [
    ".... de mélanger ses éléments..... (<a href=\"https://www.tutorialspoint.com/python/number_shuffle.htm\"> lien</a>)"
   ]
  },
  {
   "cell_type": "code",
   "execution_count": 22,
   "metadata": {},
   "outputs": [
    {
     "ename": "NameError",
     "evalue": "name 'random' is not defined",
     "output_type": "error",
     "traceback": [
      "\u001b[0;31m---------------------------------------------------------------------------\u001b[0m",
      "\u001b[0;31mNameError\u001b[0m                                 Traceback (most recent call last)",
      "\u001b[0;32m<ipython-input-22-1d7bd7dc0998>\u001b[0m in \u001b[0;36m<module>\u001b[0;34m()\u001b[0m\n\u001b[0;32m----> 1\u001b[0;31m \u001b[0mrandom\u001b[0m\u001b[0;34m.\u001b[0m\u001b[0mshuffle\u001b[0m\u001b[0;34m(\u001b[0m\u001b[0mc\u001b[0m\u001b[0;34m)\u001b[0m\u001b[0;34m\u001b[0m\u001b[0m\n\u001b[0m",
      "\u001b[0;31mNameError\u001b[0m: name 'random' is not defined"
     ]
    }
   ],
   "source": [
    "random.shuffle(c)"
   ]
  },
  {
   "cell_type": "markdown",
   "metadata": {},
   "source": [
    "Oups, que s'est-il passé? Nous venons d'appeler une fonction random.shuffle alors que l'interpréteur python ne sait pas ce qu'est \"random\". C'est normal car shuffle est une fonction issue de random, qui est une <a href=\"https://fr.wikipedia.org/wiki/Biblioth%C3%A8que_logicielle\"> librairie</a> (i.e. une collection de fonctions courantes ou de routine dont l'importation permet de se dispenser d'avoir à les réécrire à chaque fois). En python, on importe une librairie avec la commande <b>import</b>"
   ]
  },
  {
   "cell_type": "code",
   "execution_count": 23,
   "metadata": {},
   "outputs": [
    {
     "data": {
      "text/plain": [
       "[6, 4, 7, 1]"
      ]
     },
     "execution_count": 23,
     "metadata": {},
     "output_type": "execute_result"
    }
   ],
   "source": [
    "import random\n",
    "random.shuffle(c)\n",
    "c"
   ]
  },
  {
   "cell_type": "markdown",
   "metadata": {},
   "source": [
    "Nous reviendrons à la question des librairies et leur rôle central dans le développement de programme spécialisés dans i) le calcul, ii) l'analyse de données, iii) le développement web , iv) les requêtes réseaux, etc etc\n",
    "\n",
    "La structuration par ordre, c'est bien gentil mais ça a ses limites (notamment lorsque l'on veut retrouver les données). Et si nous organisions nos valeurs à l'aide d'index ou de clefs . On obtient alors un dictionnaire (que l'on définit avec des {} en python)"
   ]
  },
  {
   "cell_type": "code",
   "execution_count": 24,
   "metadata": {},
   "outputs": [
    {
     "data": {
      "text/plain": [
       "dict"
      ]
     },
     "execution_count": 24,
     "metadata": {},
     "output_type": "execute_result"
    }
   ],
   "source": [
    "d = {\"un\": 3 , \"deux\": 2, \"trois\": 9, \"soleil!\": 10}\n",
    "type(d)"
   ]
  },
  {
   "cell_type": "code",
   "execution_count": 26,
   "metadata": {},
   "outputs": [
    {
     "data": {
      "text/plain": [
       "9"
      ]
     },
     "execution_count": 26,
     "metadata": {},
     "output_type": "execute_result"
    }
   ],
   "source": [
    "d[\"trois\"]"
   ]
  },
  {
   "cell_type": "markdown",
   "metadata": {},
   "source": [
    "## Boucles et conditions\n",
    "\n",
    "### Les boucles: le moteur de nos scripts\n",
    "Maintenant que nous disposons de structure de données, voyons comment automatiser des opérations sur leurs éléments (principale raison pour laquelle nous codons). Nous allons pour cela utiliser des boucles <b>For</b> et des boucles <b>While</b>. Commençons par les boucles <b>For</b>"
   ]
  },
  {
   "cell_type": "code",
   "execution_count": 27,
   "metadata": {},
   "outputs": [
    {
     "name": "stdout",
     "output_type": "stream",
     "text": [
      "1\n",
      "9\n",
      "64\n",
      "25\n",
      "16\n"
     ]
    }
   ],
   "source": [
    "A = [1, 3, 8, 5, 4]\n",
    "a = [7,4,8,4]\n",
    "\n",
    "for i in A:     # pour chaque i dans A\n",
    "    print(i**2) # imprime i au carré"
   ]
  },
  {
   "cell_type": "code",
   "execution_count": 29,
   "metadata": {},
   "outputs": [
    {
     "data": {
      "text/plain": [
       "4"
      ]
     },
     "execution_count": 29,
     "metadata": {},
     "output_type": "execute_result"
    }
   ],
   "source": [
    "i"
   ]
  },
  {
   "cell_type": "markdown",
   "metadata": {},
   "source": [
    "Toute boucle a un <b>début</b> et une <b>fin</b> matérialisés de diverses manières selon les langage. En python, une boucle commence après : et s'étend sur toutes lignes <b>indentées</b> (aka. décallées par rapport au début de la ligne). Python est donc un <b>langage sensible à l'indentation</b>\n",
    "<code>\n",
    "boucle: \n",
    "  dans la boucle\n",
    "  dans la boucle\n",
    "  dans la boucle\n",
    "\n",
    "pas dans la boucle\n",
    "</code>\n",
    "\n",
    "Il pourrait être plus intéressant de stocker ces valeurs dans une autre liste (avec la méthode \"append\") pour nous en resservir plus tard."
   ]
  },
  {
   "cell_type": "code",
   "execution_count": 30,
   "metadata": {},
   "outputs": [
    {
     "name": "stdout",
     "output_type": "stream",
     "text": [
      "[1]\n",
      "[1, 9]\n",
      "[1, 9, 64]\n",
      "[1, 9, 64, 25]\n",
      "[1, 9, 64, 25, 9]\n"
     ]
    }
   ],
   "source": [
    "A = [1, 3, 8, 5, 3]\n",
    "B = []  # on crée une liste vide\n",
    "\n",
    "for i in A:     # pour chaque i dans a\n",
    "    p = i**2      # calcul son carré\n",
    "    B.append(p)   # ajoute p à la liste B\n",
    "\n",
    "print (B)"
   ]
  },
  {
   "cell_type": "markdown",
   "metadata": {},
   "source": [
    "<b>While</b> répond à une logique différente. Au lieu d'itérer une opération pour tous les éléments d'une liste, <b>While</b> effectue une opération jusqu'à ce qu'une condition soit satisfaite"
   ]
  },
  {
   "cell_type": "code",
   "execution_count": 32,
   "metadata": {},
   "outputs": [
    {
     "name": "stdout",
     "output_type": "stream",
     "text": [
      "['toto', 'marie', 'paul', 0, 3, 6, 9, 12, 15, 18, 21, 24, 27, 30, 33, 36, 39, 42, 45, 48]\n"
     ]
    }
   ],
   "source": [
    "B = []\n",
    "x=0\n",
    "while x < 50: # tant que x est inférieur à 50\n",
    "    B.append(x) # \n",
    "    x = x+3 # x prend alors la précédente valeur de x + 3 (on réalise ainsi une incrémentation)\n",
    "    #print(B)\n",
    "    \n",
    "print(B)"
   ]
  },
  {
   "cell_type": "code",
   "execution_count": 33,
   "metadata": {},
   "outputs": [
    {
     "name": "stdout",
     "output_type": "stream",
     "text": [
      "[0, 3, 6, 9, 12, 15, 18, 21, 24, 27, 30, 33, 36, 39, 42, 45, 48]\n"
     ]
    }
   ],
   "source": [
    "B= []\n",
    "for i in range(50): \n",
    "    if i%3 == 0:\n",
    "        B.append(i)\n",
    "\n",
    "print(B)"
   ]
  },
  {
   "cell_type": "code",
   "execution_count": 45,
   "metadata": {},
   "outputs": [
    {
     "name": "stdout",
     "output_type": "stream",
     "text": [
      "[0, 3, 6, 9, 12, 15, 18, 21, 24, 27, 30, 33, 36, 39, 42, 45, 48]\n"
     ]
    }
   ],
   "source": [
    "C =[x for x in range(50) if x%3==0]\n",
    "print(C)"
   ]
  },
  {
   "cell_type": "markdown",
   "metadata": {},
   "source": [
    "[Exercice] définissez par compréhension l'ensemble-produit (aka produit cartésien) des deux ensembles suivants."
   ]
  },
  {
   "cell_type": "code",
   "execution_count": 35,
   "metadata": {},
   "outputs": [
    {
     "name": "stdout",
     "output_type": "stream",
     "text": [
      "[('roi', 'pique'), ('roi', 'coeur'), ('roi', 'trefle'), ('roi', 'carreau'), ('dame', 'pique'), ('dame', 'coeur'), ('dame', 'trefle'), ('dame', 'carreau'), ('valet', 'pique'), ('valet', 'coeur'), ('valet', 'trefle'), ('valet', 'carreau'), ('9', 'pique'), ('9', 'coeur'), ('9', 'trefle'), ('9', 'carreau'), ('8', 'pique'), ('8', 'coeur'), ('8', 'trefle'), ('8', 'carreau'), ('7', 'pique'), ('7', 'coeur'), ('7', 'trefle'), ('7', 'carreau')]\n"
     ]
    }
   ],
   "source": [
    "A = [\"roi\",\"dame\",\"valet\",\"9\",\"8\",\"7\"]\n",
    "B = [\"pique\",\"coeur\",\"trefle\",\"carreau\"]\n",
    "\n",
    "Cartesien = [(i,j) for i in A for j in B]\n",
    "'''\n",
    "for i in A:\n",
    "    for j in B:\n",
    "        Cartesien.append((i,j))\n",
    "'''\n",
    "\n",
    "print(Cartesien)"
   ]
  },
  {
   "cell_type": "markdown",
   "metadata": {},
   "source": [
    "### Les conditions: le volant de nos script\n",
    "\n",
    "Nous avons vu que les boucles while reposent sur des conditions d'arrêt (ce sans quoi elles tourneraient sans fin).  Prenons, pour changer, des chaines de caractères pour illustrer le fonctionnement des conditions.  "
   ]
  },
  {
   "cell_type": "code",
   "execution_count": 54,
   "metadata": {},
   "outputs": [
    {
     "name": "stdout",
     "output_type": "stream",
     "text": [
      "False\n",
      "True\n"
     ]
    }
   ],
   "source": [
    "a = \"Alexandre\"\n",
    "b = \"Bethsabée\"\n",
    "c = \"Pierre\"\n",
    "\n",
    "print (bool(a == b))\n",
    "print (bool(len(a) == len(b)))"
   ]
  },
  {
   "cell_type": "code",
   "execution_count": 44,
   "metadata": {},
   "outputs": [
    {
     "name": "stdout",
     "output_type": "stream",
     "text": [
      "Bethsabée  et de même longueur que  Alexandre\n"
     ]
    }
   ],
   "source": [
    "a = \"Alexandre\"\n",
    "b = \"Bethsabée\"\n",
    "c = \"Pierre\"\n",
    "\n",
    "if len(b)<len(a):\n",
    "    print(b, \" est plus court que \", a)\n",
    "elif len(b)==len(a):\n",
    "    print(b, \" et de même longueur que \",a)"
   ]
  },
  {
   "cell_type": "code",
   "execution_count": 53,
   "metadata": {},
   "outputs": [
    {
     "name": "stdout",
     "output_type": "stream",
     "text": [
      "1  n'est ni multiple de 2 ni de 3\n",
      "2  n'est ni multiple de 2 ni de 3\n",
      "3  n'est ni multiple de 2 ni de 3\n",
      "4  n'est ni multiple de 2 ni de 3\n",
      "5  n'est ni multiple de 2 ni de 3\n",
      "6  est multiple de 2\n",
      "6  est multiple de 3\n",
      "7  n'est ni multiple de 2 ni de 3\n",
      "8  n'est ni multiple de 2 ni de 3\n",
      "9  n'est ni multiple de 2 ni de 3\n"
     ]
    },
    {
     "data": {
      "text/plain": [
       "'\\nfor n in L:\\n    if (n%2==0) or (n%3==0):\\n        if n%2==0:\\n            print(n,\\' est multiple de 2\\')\\n        if n%3==0: \\n            print(n, \\' est multiple de 3\\')\\n    else:\\n        print(n, \" n\\'est ni multiple de 2 ni de 3\")\\n\\n\\n\\nfor n in L:\\n    if n%2==0:\\n        print(n,\\' est multiple de 2\\')\\n    if n%3==0:\\n        print(n, \\' est multiple de 3\\')\\n    else: \\n        print(n, \" n\\'est ni multiple de 2 ni de 3\")\\n'"
      ]
     },
     "execution_count": 53,
     "metadata": {},
     "output_type": "execute_result"
    }
   ],
   "source": [
    "L = [1,2,3,4,5,6,7,8,9]\n",
    "\n",
    "\n",
    "for n in L:\n",
    "    if (n%2!=0) and (n%3!=0): \n",
    "        print(n, \" n'est ni multiple de 2 ni de 3\") \n",
    "    else: \n",
    "        if n%2==0:\n",
    "            print(n,' est multiple de 2')\n",
    "        if n%3==0: \n",
    "            print(n, ' est multiple de 3')\n",
    "\n",
    "'''\n",
    "for n in L:\n",
    "    if (n%2==0) or (n%3==0):\n",
    "        if n%2==0:\n",
    "            print(n,' est multiple de 2')\n",
    "        if n%3==0: \n",
    "            print(n, ' est multiple de 3')\n",
    "    else:\n",
    "        print(n, \" n'est ni multiple de 2 ni de 3\")\n",
    "\n",
    "\n",
    "\n",
    "for n in L:\n",
    "    if n%2==0:\n",
    "        print(n,' est multiple de 2')\n",
    "    if n%3==0:\n",
    "        print(n, ' est multiple de 3')\n",
    "    else: \n",
    "        print(n, \" n'est ni multiple de 2 ni de 3\")\n",
    "'''"
   ]
  },
  {
   "cell_type": "markdown",
   "metadata": {},
   "source": [
    "[exercice 1] A l'aide des boucles et des conditions, réalisez un programme capable d'identifier les noms de plus de 5 lettres de la liste et de les ajouter à la liste NomsLongs"
   ]
  },
  {
   "cell_type": "code",
   "execution_count": 155,
   "metadata": {},
   "outputs": [
    {
     "name": "stdout",
     "output_type": "stream",
     "text": [
      "longs:  ['pierre', 'alexandre', 'marine']\n",
      "courts:  ['luc']\n",
      "moyens:  ['jade', 'alex', 'marie']\n"
     ]
    }
   ],
   "source": [
    "noms = [\"luc\",\"pierre\", \"jade\", \"alex\", \"alexandre\", \"marie\", \"marine\"]\n",
    "NomsLongs = []\n",
    "NomsCourts = []\n",
    "NomsMoyens = []\n",
    "\n",
    "for n in noms:\n",
    "    if len(n)>5:\n",
    "        NomsLongs.append(n)\n",
    "    elif 4<=len(n)<=5:\n",
    "        NomsMoyens.append(n)\n",
    "    else:\n",
    "        NomsCourts.append(n)\n",
    "\n",
    "print(\"longs: \",NomsLongs)\n",
    "print(\"courts: \",NomsCourts)\n",
    "print(\"moyens: \",NomsMoyens)"
   ]
  },
  {
   "cell_type": "code",
   "execution_count": 57,
   "metadata": {},
   "outputs": [],
   "source": [
    "NomsLongs = [n for n in noms if len(n)>5]"
   ]
  },
  {
   "cell_type": "markdown",
   "metadata": {},
   "source": [
    "[exercice 2] A l'aide d'une boucle, trouvez tous les entiers multiples de 11 compris entre 0 et 1000"
   ]
  },
  {
   "cell_type": "code",
   "execution_count": 60,
   "metadata": {},
   "outputs": [
    {
     "name": "stdout",
     "output_type": "stream",
     "text": [
      "[0, 11, 22, 33, 44, 55, 66, 77, 88, 99, 110, 121, 132, 143, 154, 165, 176, 187, 198, 209, 220, 231, 242, 253, 264, 275, 286, 297, 308, 319, 330, 341, 352, 363, 374, 385, 396, 407, 418, 429, 440, 451, 462, 473, 484, 495, 506, 517, 528, 539, 550, 561, 572, 583, 594, 605, 616, 627, 638, 649, 660, 671, 682, 693, 704, 715, 726, 737, 748, 759, 770, 781, 792, 803, 814, 825, 836, 847, 858, 869, 880, 891, 902, 913, 924, 935, 946, 957, 968, 979, 990]\n"
     ]
    }
   ],
   "source": [
    "D =[]\n",
    "for i in range(1000):\n",
    "    if i%11 ==0:\n",
    "        D.append(i)\n",
    "\n",
    "print(D)"
   ]
  },
  {
   "cell_type": "markdown",
   "metadata": {},
   "source": [
    "[Exercice 3] Essayons maintenant d'implémenter un algorithme simple comme un détecteur palindrome (ex: \"sms\" et \"xanax\" sont des palindromes). On peut imaginer différentes procédures mais la plus simple serait, pour une chaine de caractères quelconque de longueur n, de vérifier que \n",
    "<ul>\n",
    "<li> 1      ==     n\n",
    "<li>   2    ==    n-1\n",
    "<li> etc etc\n",
    "</ul>\n",
    "A la moindre exception, le mot n'est pas un palindrome (on utilisera alors *break* pour mettre fin à la boucle). Nous allons de plus gagner du temps en créant une <b>fonction</b> qui nous dispensera de réécrire le code pour chaque mot à tester. Une fonction se définit avec <b>def</b>, \":\" et une indentation."
   ]
  },
  {
   "cell_type": "code",
   "execution_count": 157,
   "metadata": {},
   "outputs": [
    {
     "data": {
      "text/plain": [
       "\"ceci n'est pas un palindrome\""
      ]
     },
     "execution_count": 157,
     "metadata": {},
     "output_type": "execute_result"
    }
   ],
   "source": [
    "s = \"xenax\"\n",
    "\n",
    "def Palindrome_detect(mot):\n",
    "    for c in range(len(mot)//2):\n",
    "        if mot[c] != mot[-c-1]: \n",
    "            return \"ceci n'est pas un palindrome\"\n",
    "            break\n",
    "        \n",
    "    return \"ceci est un palindrome\"\n",
    "\n",
    "Palindrome_detect(s)"
   ]
  },
  {
   "cell_type": "markdown",
   "metadata": {},
   "source": [
    "[exercice 4] Vous disposez d'un <b> dictionnaire </b> contenant le statut (ouvert/fermé) de chaque port d'un server. A l'aide d'une boucle For, \"testez\" chaque port pour afficher son statut"
   ]
  },
  {
   "cell_type": "code",
   "execution_count": 10,
   "metadata": {
    "scrolled": true
   },
   "outputs": [
    {
     "name": "stdout",
     "output_type": "stream",
     "text": [
      "dict_values(['close', 'open', ['a'], 456, 'open', {'u': 65, 't': 78}, 'close'])\n"
     ]
    }
   ],
   "source": [
    "ports = {21: \"open\", 22: \"open\", 443: \"open\", 6112: \"close\", 1521: \"open\", 636: \"close\", 88: \"open\"}\n",
    "\n",
    "for p in ports.keys():\n",
    "    print(p,\"\\t:\",ports[p])\n",
    "\n",
    "# CODE À COMPLÉTER"
   ]
  },
  {
   "cell_type": "markdown",
   "metadata": {},
   "source": [
    "[Exercice 4 bis] même chose mais n'affichez que les ports ouverts et dans l'orde (utilisez la fonction sorted())"
   ]
  },
  {
   "cell_type": "code",
   "execution_count": 106,
   "metadata": {},
   "outputs": [
    {
     "name": "stdout",
     "output_type": "stream",
     "text": [
      "20\n",
      "21\n",
      "88\n",
      "443\n",
      "1521\n"
     ]
    }
   ],
   "source": [
    "ports = {20: \"open\", 21: \"open\", 443: \"open\", 6112: \"close\", 1521: \"open\", 636: \"close\", 88: \"open\"}\n",
    "\n",
    "for p in sorted(ports.keys()):\n",
    "    if ports[p]==\"open\":\n",
    "        print(p)"
   ]
  },
  {
   "cell_type": "markdown",
   "metadata": {},
   "source": [
    "## Approfondissements: conditions, complémentaires et enchâssement.\n",
    "\n",
    "Nous ne nous sommes jusqu'à présent contenté que de cas simples qui associaient une condition unique à une boucle unique. Un langage comme python offre toutefois bien plus de souplesse en cas de besoin. Prenons un exemple."
   ]
  },
  {
   "cell_type": "code",
   "execution_count": 1,
   "metadata": {},
   "outputs": [
    {
     "name": "stdout",
     "output_type": "stream",
     "text": [
      "a est inférieur à 10\n"
     ]
    }
   ],
   "source": [
    "a = 5 \n",
    "\n",
    "if a > 10: \n",
    "    print(\"a est suppérieur à 10\")\n",
    "else: \n",
    "    print(\"a est inférieur à 10\")"
   ]
  },
  {
   "cell_type": "markdown",
   "metadata": {},
   "source": [
    "Mettons que nous voulions récupérer l'ensemble des nombres < 100 à la fois multiple de 5 et de 3. Une manière de penser l'opération consiste à prendre chaque nombre les uns après les autres, vérifier si ils sont multiples de 5 et, si ils le sont, vérifier s'ils sont également multiples de 3"
   ]
  },
  {
   "cell_type": "code",
   "execution_count": null,
   "metadata": {},
   "outputs": [],
   "source": [
    "T = []\n",
    "for n in range(1,100):\n",
    "    if n%5 == 0:\n",
    "        if n%3 == 0: \n",
    "            T.append(n)\n",
    "T"
   ]
  },
  {
   "cell_type": "code",
   "execution_count": 59,
   "metadata": {},
   "outputs": [
    {
     "data": {
      "text/plain": [
       "[15, 30, 45, 60, 75, 90]"
      ]
     },
     "execution_count": 59,
     "metadata": {},
     "output_type": "execute_result"
    }
   ],
   "source": [
    "T = []\n",
    "for n in range(1,100):\n",
    "    if n%5 == 0 and n%3 == 0: \n",
    "        T.append(n)\n",
    "T"
   ]
  },
  {
   "cell_type": "code",
   "execution_count": null,
   "metadata": {},
   "outputs": [],
   "source": [
    "T = [n for n in range(1,100) if n%5 == 0 and n%3 == 0]\n",
    "T"
   ]
  },
  {
   "cell_type": "markdown",
   "metadata": {},
   "source": [
    "Notez l'enchassement de la condition \"if n%3 == 0\" dans la condition \"if n%5 == 0\": la première n'est vérifié que si la seconde l'est. De même que l'on peut combiner des conditions les unes dans les autres, de même peut on enchasser les boucles. \n",
    "\n",
    "Pensez à problème combinatoire comme l'axiomatisation des mathématiques Shadoks\n",
    "\n",
    "![Mathématiques Shadoks](http://jean-luc.bregeon.pagesperso-orange.fr/Page%200-20_fichiers/image001.gif)"
   ]
  },
  {
   "cell_type": "code",
   "execution_count": null,
   "metadata": {},
   "outputs": [],
   "source": [
    "Digits = [\"Ga\", \"Bu\", \"Zo\", \"Meu\"]\n",
    "\n",
    "for n in Digits:\n",
    "    for m in Digits:\n",
    "        print(n+m)"
   ]
  },
  {
   "cell_type": "markdown",
   "metadata": {},
   "source": [
    "[Exercice 5] réalisez un convertisseur Shadok (nombres arabes vers Shadok). Vous aurez besoin de la division euclidienne (\"//\": 13//3 = 4). Il existe deux manières de penser l'opération. La première est <b>récursive</b> (appeler la fonction dans la fonction)...."
   ]
  },
  {
   "cell_type": "code",
   "execution_count": 169,
   "metadata": {},
   "outputs": [],
   "source": [
    "DigitDict = {0:\"Ga\", 1:\"Bu\", 2:\"Zo\", 3:\"Meu\"}\n",
    "\n",
    "def RecursShadok(n):\n",
    "    if n == 0:\n",
    "        return \"\"\n",
    "    else:\n",
    "        return RecursShadok(n//4) + DigitDict[n%4]\n",
    "    \n"
   ]
  },
  {
   "cell_type": "code",
   "execution_count": 170,
   "metadata": {},
   "outputs": [
    {
     "data": {
      "text/plain": [
       "'MeuMeu'"
      ]
     },
     "execution_count": 170,
     "metadata": {},
     "output_type": "execute_result"
    }
   ],
   "source": [
    "RecursShadok(15) # doit vous renvoyer \"GaMeuMeu\"\n",
    "\n"
   ]
  },
  {
   "cell_type": "code",
   "execution_count": 182,
   "metadata": {},
   "outputs": [],
   "source": [
    "def recursive_to_zero(n):\n",
    "    if n ==0: \n",
    "        pass\n",
    "    else:\n",
    "        #print(n)\n",
    "        return go_to_zero(n-1)\n",
    "\n",
    "\n",
    "def iterative_to_zero(n):\n",
    "    while n>0: \n",
    "        n = n-1\n",
    "    return print(n, \" c'est bon!!!!!!!\")"
   ]
  },
  {
   "cell_type": "code",
   "execution_count": 184,
   "metadata": {},
   "outputs": [
    {
     "name": "stdout",
     "output_type": "stream",
     "text": [
      "0  c'est bon!!!!!!!\n",
      "0  c'est bon!!!!!!!\n",
      "0  c'est bon!!!!!!!\n",
      "0  c'est bon!!!!!!!\n",
      "0  c'est bon!!!!!!!\n",
      "0  c'est bon!!!!!!!\n",
      "0  c'est bon!!!!!!!\n",
      "0  c'est bon!!!!!!!\n",
      "0  c'est bon!!!!!!!\n",
      "0  c'est bon!!!!!!!\n",
      "j'ai mis  0.0012979507446289062 ms \n"
     ]
    }
   ],
   "source": [
    "import time\n",
    "\n",
    "start = time.time()\n",
    "for i in range(10):\n",
    "    iterative_to_zero(100)\n",
    "\n",
    "end = time.time()\n",
    "\n",
    "\n",
    "print(\"j'ai mis \", end-start,\"ms \")"
   ]
  },
  {
   "cell_type": "markdown",
   "metadata": {},
   "source": [
    "..... la seconde, conceptuellement plus simple, est <b>itérative</b>"
   ]
  },
  {
   "cell_type": "code",
   "execution_count": 162,
   "metadata": {},
   "outputs": [],
   "source": [
    "DigitDict = {0:\"Ga\", 1:\"Bu\", 2:\"Zo\", 3:\"Meu\"}\n",
    "\n",
    "def IterShadok(n):\n",
    "    results = []\n",
    "    while n!= 0: # boucle while  n !=O\n",
    "        results.append(n%4)  ## on fait n%base -> on l'ajoute à results     \n",
    "        n = n//4 ## on finit par dire (pour le tour suivant) que n = produit\n",
    "\n",
    "    results.reverse() # inverser l'ordre des éléments de results \n",
    "    results = [DigitDict[x] for x in results]\n",
    "    results = \"\".join(results)\n",
    "    \n",
    "    return results # on return results\n",
    "    \n",
    "    "
   ]
  },
  {
   "cell_type": "code",
   "execution_count": 164,
   "metadata": {
    "scrolled": true
   },
   "outputs": [
    {
     "name": "stdout",
     "output_type": "stream",
     "text": [
      "je pars de:  573\n",
      "573 //4=  143 + 1\n",
      "j'ajoute:  1  à la liste de mes restes\n",
      "pour le tour d'après, n=  143\n",
      "###########FIN#DU#TOUR#########\n",
      "je pars de:  143\n",
      "143 //4=  35 + 3\n",
      "j'ajoute:  3  à la liste de mes restes\n",
      "pour le tour d'après, n=  35\n",
      "###########FIN#DU#TOUR#########\n",
      "je pars de:  35\n",
      "35 //4=  8 + 3\n",
      "j'ajoute:  3  à la liste de mes restes\n",
      "pour le tour d'après, n=  8\n",
      "###########FIN#DU#TOUR#########\n",
      "je pars de:  8\n",
      "8 //4=  2 + 0\n",
      "j'ajoute:  0  à la liste de mes restes\n",
      "pour le tour d'après, n=  2\n",
      "###########FIN#DU#TOUR#########\n",
      "je pars de:  2\n",
      "2 //4=  0 + 2\n",
      "j'ajoute:  2  à la liste de mes restes\n",
      "pour le tour d'après, n=  0\n",
      "###########FIN#DU#TOUR#########\n"
     ]
    },
    {
     "data": {
      "text/plain": [
       "'ZoGaMeuMeuBu'"
      ]
     },
     "execution_count": 164,
     "metadata": {},
     "output_type": "execute_result"
    }
   ],
   "source": [
    "IterShadok(573) # doit renvoyer Meu Ga"
   ]
  },
  {
   "cell_type": "code",
   "execution_count": 87,
   "metadata": {},
   "outputs": [
    {
     "data": {
      "text/plain": [
       "int"
      ]
     },
     "execution_count": 87,
     "metadata": {},
     "output_type": "execute_result"
    }
   ],
   "source": [
    "type((1))"
   ]
  },
  {
   "cell_type": "markdown",
   "metadata": {},
   "source": [
    "### Une histoire de noms\n",
    "\n",
    "<ul>\n",
    "<li> créez une liste de noms\n",
    "<li> identifez tous les noms qui commencent par une lettre de votre choix. Ajoutez ces noms à un liste vide que vous allez creer\n",
    "<li> énumérez tous les couples possibles. une personne ne peut pas être en couple avec soi même (prop non reflexive) et couple(a,b) = couple (b,a) (prop anti-symétrique). Ajoutez ces paires de couples à un liste ()\n",
    "<li> la même chose, mais pour tous les noms compris entre 4 et 7 lettres\n",
    "</ul>\n",
    "\n",
    "### Génération aléatoire (Fuzz \\nn/)\n",
    "\n",
    "<ul>\n",
    "<li> créez une liste de symboles hexadécimaux (0 -> F)\n",
    "<li> à l'aide de **random.choice()**, constituez une liste de 128 symboles\n",
    "<li> affichez l'ensemble de ces caractères groupés par deux\n",
    "<li>\n",
    "</ul>\n"
   ]
  },
  {
   "cell_type": "code",
   "execution_count": 23,
   "metadata": {},
   "outputs": [
    {
     "name": "stdout",
     "output_type": "stream",
     "text": [
      "[('Adelle', 'Kader'), ('Adelle', 'Marie'), ('Adelle', 'Piotr'), ('Adelle', 'Abdel'), ('Adelle', 'Steve'), ('Adelle', 'Cornelius'), ('Adelle', 'Claire'), ('Adelle', 'Gwendoline'), ('Kader', 'Marie'), ('Kader', 'Piotr'), ('Kader', 'Abdel'), ('Kader', 'Steve'), ('Kader', 'Cornelius'), ('Kader', 'Claire'), ('Kader', 'Gwendoline'), ('Marie', 'Piotr'), ('Marie', 'Abdel'), ('Marie', 'Steve'), ('Marie', 'Cornelius'), ('Marie', 'Claire'), ('Marie', 'Gwendoline'), ('Piotr', 'Abdel'), ('Piotr', 'Steve'), ('Piotr', 'Cornelius'), ('Piotr', 'Claire'), ('Piotr', 'Gwendoline'), ('Abdel', 'Steve'), ('Abdel', 'Cornelius'), ('Abdel', 'Claire'), ('Abdel', 'Gwendoline'), ('Steve', 'Cornelius'), ('Steve', 'Claire'), ('Steve', 'Gwendoline'), ('Cornelius', 'Claire'), ('Cornelius', 'Gwendoline'), ('Claire', 'Gwendoline')]\n"
     ]
    }
   ],
   "source": [
    "noms=[\"Adelle\",\"Kader\",\"Marie\",\"Piotr\",\"Abdel\",\"Steve\",\"Cornelius\",\"Claire\",\"Gwendoline\"]\n",
    "\n",
    "#l = [n for n in noms if n[0]==\"C\"] \n",
    "\n",
    "couples = [(noms[i],j) for i in range(len(noms)) for j in noms[i+1:]]\n",
    "'''\n",
    "for i in noms:\n",
    "    for j in noms:\n",
    "        if i !=j:\n",
    "            if (j,i) not in couples:\n",
    "                couples.append((i,j))     \n",
    "\n",
    "for i in range(len(noms)):\n",
    "    for j in noms[i+1:]:\n",
    "        couples.append((noms[i],j))\n",
    "'''\n",
    "print(couples)"
   ]
  },
  {
   "cell_type": "code",
   "execution_count": 54,
   "metadata": {},
   "outputs": [
    {
     "name": "stdout",
     "output_type": "stream",
     "text": [
      "297934ab\n",
      "08c89f04\n",
      "9e5a30ac\n",
      "f8c995e7\n",
      "ea2a1fac\n",
      "7348917f\n",
      "922811ca\n",
      "6ae17327\n",
      "439c33e9\n",
      "9e583f1d\n",
      "d7197284\n",
      "5e4cc866\n",
      "929c0a1b\n",
      "e4a36fb4\n",
      "3941881a\n",
      "4a57bf4e\n"
     ]
    }
   ],
   "source": [
    "import random\n",
    "L= [\"0\",\"1\",\"2\",\"3\",\"4\",\"5\",\"6\",\"7\",\"8\",\"9\",\"a\",\"b\",\"c\",\"d\",\"e\",\"f\"]\n",
    "fuz=[]\n",
    "\n",
    "for i in range(128):\n",
    "    r=random.choice(L)\n",
    "    fuz.append(r)\n",
    "\n",
    "#print(fuz)\n",
    "\n",
    "for i in range(len(fuz)//8):\n",
    "    print(\"\".join(fuz[8*i:8*i+8]))\n",
    "\n",
    "\n"
   ]
  },
  {
   "cell_type": "markdown",
   "metadata": {},
   "source": [
    "## Librairies: utilisation et création\n",
    "Outre une syntaxe simple, le principal atout de python réside dans son choix de librairies spécialisées dans un grand nombre de domaines. Pour importer une librairie, il suffit de:"
   ]
  },
  {
   "cell_type": "code",
   "execution_count": null,
   "metadata": {},
   "outputs": [],
   "source": [
    "import pandas                    #importe la librairie pandas\n",
    "from sklearn import linear_model # importe le module \"modèle linéaire\" de la librairie Sklearn\n",
    "import numpy as np               # importe la librairie numpy qui sera désigné par \"np\" (pratique pour éviter les scripts trop verbeux)\n",
    "\n",
    "data = np.random.rand(3,2)       #génère une matrice de données aléatoire de 3 lignes et 2 colonnes\n",
    "print(data)"
   ]
  },
  {
   "cell_type": "markdown",
   "metadata": {},
   "source": [
    "Il existe plusieurs manières d'installer des librairies python. La plus simple consiste à exécuter\n",
    "\n",
    "<code>pip3 install nom-de-la-librairie</code>\n",
    "\n",
    "dans votre terminal\n",
    "\n",
    "Gardez à l'esprit qu'il n'existe pas de différence ontologique entre un <b>script</b> et un <b>module</b>. Une <b>librairie</b> est un ensemble de <b>module</b>. La librairie sklearn est en fait un dossier qui contient un fichier .py linear_model vers lequel pointe le PATH de votre interpréteur Python (à défaut, dans le dossier courant). En conséquence, vous pouvez aisément vous créer vos propres modules et librairies.\n",
    "\n",
    "Nous allons créer une librairie appelée <b>libPerso</b> avec un module <b>nlp</b> doté d'une fonction capable de compter les mots d'une chaîne de caractères. Voici ce que doit contenir votre nlp.py. Il vous suffira ensuite d'ajouter ce fichier dans un dossier appelé libPerso dans le dossier courant. Petite subtilité supplémentaire, le dossier <b>libPerso</b> devra contenir un fichier vide appelé <b>__init__.py</b> pour que l'interpréteur sache qu'il s'agit d'une librairie."
   ]
  },
  {
   "cell_type": "code",
   "execution_count": null,
   "metadata": {},
   "outputs": [],
   "source": [
    "import re                # analyse d'expression régulière\n",
    "def WordCount(string):\n",
    "    count = len(re.findall(r'\\w+', string))\n",
    "    return(count)"
   ]
  },
  {
   "cell_type": "markdown",
   "metadata": {},
   "source": [
    "Il vous suffira ensuite d'ajouter ce fichier dans un dossier appelé libPerso dans le dossier courant. Petite subtilité supplémentaire, le dossier <b>libPerso</b> devra contenir un fichier vide appelé $__init__.py$ pour que l'interpréteur sache qu'il s'agit d'une librairie.\n",
    "\n",
    "Vérifions que cela marche"
   ]
  },
  {
   "cell_type": "code",
   "execution_count": null,
   "metadata": {},
   "outputs": [],
   "source": [
    "from libPerso import nlp"
   ]
  },
  {
   "cell_type": "markdown",
   "metadata": {},
   "source": [
    "## Allons plus loin dans les Structures et algorithmes\n",
    "\n",
    "Jusque là, nous sommes restés cantonés à des cas concrets. Mais la manière de concevoir un algorithme peut être décrite i) abstraitement ii) relativement à la structuration de données. Commençons par le commencement: \n",
    "\n",
    "### Recherche sur liste\n",
    "\n",
    "On parle de listes pour toute structure de données organisée de manière unidimensionnel (e.g. ordre des items, lignes d'un fichier de log, etc etc).\n",
    "\n",
    "Une première manière de rechercher un élément consiste à parcourir l'intégralité de la liste à sa recherche. On parle de **recherche linéaire**. Concevez un semblable algorithme pour trouver le seul nom de 4 lettres de la liste."
   ]
  },
  {
   "cell_type": "code",
   "execution_count": 2,
   "metadata": {},
   "outputs": [
    {
     "name": "stdout",
     "output_type": "stream",
     "text": [
      "OK\n",
      "OK\n",
      "OK\n",
      "OK\n",
      "OK\n",
      "OK\n",
      "OK\n"
     ]
    }
   ],
   "source": [
    "noms = [\"pierre\",\"karl\",\"isaiah\",\"marie\",\"claire\", \"carole\",\"luc\"]\n",
    "\n",
    "match = []  # liste dans laquelle ajouter\n",
    "\n",
    "for n in noms:  # itération\n",
    "    if len(n) ==4:\n",
    "        match.append(n)\n",
    "    print('OK')\n",
    "    "
   ]
  },
  {
   "cell_type": "markdown",
   "metadata": {},
   "source": [
    "Ce type d'algorithme oblige à parcourir l'intégralité de la liste. Si 100 entrées, complexité de 100, si n entrées, complexité de n. On parle alors d'un algorithme de complexité n.\n",
    "\n",
    "Selon les situations, il peut être plus rapide de procéder d'une autre manière. Par exemple, dans le cas ou les données seraient *ordonnées*, il est possible d'utiliser un algorithme de **recherche binaire**. O(log n)\n",
    "\n",
    "![binary research](https://upload.wikimedia.org/wikipedia/commons/thumb/8/83/Binary_Search_Depiction.svg/1200px-Binary_Search_Depiction.svg.png)\n",
    "\n",
    "Modifiez l'algorithme précédent afin de trouver le nom de 4 lettres"
   ]
  },
  {
   "cell_type": "code",
   "execution_count": 5,
   "metadata": {},
   "outputs": [
    {
     "name": "stdout",
     "output_type": "stream",
     "text": [
      "jeanne\n",
      "marie\n",
      "karl\n",
      "['karl']\n"
     ]
    }
   ],
   "source": [
    "noms = [\"luc\",\"karl\",\"marie\",\"pierre\",\"jeanne\",\"isaiah\",\"claire\", \"carole\"]\n",
    "match =[]\n",
    "\n",
    "while True:\n",
    "    nom_actuel = noms[len(noms)//2]\n",
    "    print(nom_actuel)\n",
    "    if len(nom_actuel)==4:\n",
    "        match.append(nom_actuel)\n",
    "        break\n",
    "    else: \n",
    "        if len(nom_actuel)>4:\n",
    "            noms = noms[:len(noms)//2]\n",
    "        if len(nom_actuel)<4:\n",
    "            noms = noms[len(noms)//2:]\n",
    "\n",
    "print(match)"
   ]
  },
  {
   "cell_type": "code",
   "execution_count": 11,
   "metadata": {},
   "outputs": [
    {
     "name": "stdout",
     "output_type": "stream",
     "text": [
      "50\n",
      "75\n",
      "88\n",
      "94\n",
      "97\n",
      "99\n",
      "98\n",
      "[98]\n"
     ]
    }
   ],
   "source": [
    "# même chose mais pour trouver un nombre compris entre 0 et 100 (on cherche 63)\n",
    "\n",
    "nombres = list(range(101))\n",
    "match = []\n",
    "\n",
    "while True:\n",
    "    nb_actuel = nombres[len(nombres)//2]\n",
    "    print(nb_actuel)\n",
    "    if nb_actuel==98:\n",
    "        match.append(nb_actuel)\n",
    "        break\n",
    "    else: \n",
    "        if nb_actuel>98:\n",
    "            nombres = nombres[:len(nombres)//2]\n",
    "        if nb_actuel<98:\n",
    "            nombres = nombres[len(nombres)//2:]\n",
    "\n",
    "print(match)"
   ]
  },
  {
   "cell_type": "markdown",
   "metadata": {},
   "source": [
    "### Algorithme de tri (sorting)\n",
    "\n",
    "Une autre importante famille de taches consiste à trier, classer des données dans une structure. Comment feriez-vous pour ordonner les noms (ou nombres) de la liste? Plein de manière. L'une d'elle est un [tri par insertion](https://fr.wikipedia.org/wiki/Tri_par_insertion). On commence par le plus à gauche, et on le considère comme rangé. Puis on prend celui d'après. S'il est plus grand que le nombre déjà rangé, on le range après, sinon avant. Pour les suivants, même logique: on regarde la dernière valeur rangée. Si plus petit, on regarde la valeur d'avant, si plus petit, celle d'avant, si plus petit, celle d'avant, etc etc \n",
    "\n",
    "![tri par insertion](http://www.russika.ru/userimages/2014_01_24_21_28_770818091.gif)\n"
   ]
  },
  {
   "cell_type": "code",
   "execution_count": 89,
   "metadata": {},
   "outputs": [],
   "source": [
    "import random\n",
    "numbers = [random.randint(1,50) for i in range(20)] # une liste de 20 nombre aléatoires"
   ]
  },
  {
   "cell_type": "code",
   "execution_count": 90,
   "metadata": {},
   "outputs": [],
   "source": [
    "def insertionSort(alist):   \n",
    "    for index in range(1,len(alist)): # NB on commence par 1 et non par 0 (car nous allons ranger tous les autres relativement au premier)\n",
    "          \n",
    "        nb_actuel = alist[index] # pour passer chaque nb de la liste en revue\n",
    "        position = index      # on fixe sa position à son index dans la liste\n",
    "        \n",
    "        while position >0 and alist[position-1]>nb_actuel: # tant que l'élément d'avant est plus grand que la valeur actuelle\n",
    "            alist[position]=alist[position-1]     # on met sur cette position la valeur de la position juste avant\n",
    "            position = position-1               # et on se décalle d'un rang vers la gauche\n",
    "        \n",
    "        alist[position]=nb_actuel  # quand enfin nous n'avons pas d'élément plus grand à gauche, on met sur cet emplacement la valeur actuelle\n",
    "\n",
    "            \n",
    "            # je range l'élément à cet endroit là\n",
    "        # BIS REPETITA AD LIB"
   ]
  },
  {
   "cell_type": "code",
   "execution_count": 91,
   "metadata": {},
   "outputs": [
    {
     "name": "stdout",
     "output_type": "stream",
     "text": [
      "[19, 31, 26, 25, 36, 42, 2, 3, 44, 31, 18, 20, 42, 16, 28, 43, 12, 4, 32, 3]\n"
     ]
    }
   ],
   "source": [
    "print(numbers)\n",
    "insertionSort(numbers)\n"
   ]
  },
  {
   "cell_type": "code",
   "execution_count": 92,
   "metadata": {},
   "outputs": [
    {
     "name": "stdout",
     "output_type": "stream",
     "text": [
      "[2, 3, 3, 4, 12, 16, 18, 19, 20, 25, 26, 28, 31, 31, 32, 36, 42, 42, 43, 44]\n"
     ]
    }
   ],
   "source": [
    "print(numbers)"
   ]
  },
  {
   "cell_type": "markdown",
   "metadata": {},
   "source": [
    "Une autre forme d'algorithme de tri couramment utilisé est le [tri à bulles](https://fr.wikipedia.org/wiki/Tri_%C3%A0_bulles)\n",
    "\n",
    "![tri à bulle](http://www.algolist.net/img/sorts/bubble-sort-1.png)"
   ]
  },
  {
   "cell_type": "code",
   "execution_count": 121,
   "metadata": {},
   "outputs": [
    {
     "name": "stdout",
     "output_type": "stream",
     "text": [
      "[47, 9, 16, 14, 8, 9, 1, 17, 42, 47, 19, 37, 32, 12, 10, 45, 12, 24, 24, 15]\n"
     ]
    }
   ],
   "source": [
    "numbers = [random.randint(1,50) for i in range(20)] # une liste de 20 nombre aléatoires\n",
    "print(numbers)"
   ]
  },
  {
   "cell_type": "code",
   "execution_count": 149,
   "metadata": {},
   "outputs": [],
   "source": [
    "noms = [\"pierre\",\"karl\",\"isaiah\",\"marie\",\"claire\", \"carole\",\"luc\"]"
   ]
  },
  {
   "cell_type": "code",
   "execution_count": 152,
   "metadata": {},
   "outputs": [],
   "source": [
    "def bubblesort(alist,mode=\"alpha\"):\n",
    "    # if len(alist[i+1])<len(alist[i]):\n",
    "    while True:\n",
    "        swap = \"\"\n",
    "        for i in range(len(alist)-1):\n",
    "            if mode == \"size\":\n",
    "                if len(alist[i+1])<len(alist[i]):\n",
    "                    swap = alist[i]\n",
    "                    alist[i] = alist[i+1]\n",
    "                    alist[i+1] = swap\n",
    "            else:\n",
    "                if alist[i+1]<alist[i]:\n",
    "                    swap = alist[i]\n",
    "                    alist[i] = alist[i+1]\n",
    "                    alist[i+1] = swap\n",
    "        if swap == \"\":\n",
    "            break\n",
    "    return alist\n",
    "        "
   ]
  },
  {
   "cell_type": "code",
   "execution_count": 153,
   "metadata": {},
   "outputs": [
    {
     "name": "stdout",
     "output_type": "stream",
     "text": [
      "['carole', 'claire', 'isaiah', 'karl', 'luc', 'marie', 'pierre']\n"
     ]
    }
   ],
   "source": [
    "noms = bubblesort(noms, \"siz\")\n",
    "print(noms)"
   ]
  },
  {
   "cell_type": "markdown",
   "metadata": {},
   "source": [
    "Un autre standard d'algorithme de tri n'est autre que le [tri-fusion](https://fr.wikipedia.org/wiki/Tri_fusion). Il consiste à spliter la liste en sublists, elles même en sublist etc puis à stacker ces éléments dans l'ordre en remontant les degrés de complexité. \n",
    "\n",
    "![merge sort](https://upload.wikimedia.org/wikipedia/commons/6/60/Mergesort_algorithm_diagram.png)\n",
    "\n",
    "![merge_sort2](https://upload.wikimedia.org/wikipedia/commons/c/c5/Merge_sort_animation2.gif)\n",
    "\n",
    "NB: cet algorithme se prête très bien à une approche récurssive (mais vous pouvez faire autrement)\n"
   ]
  },
  {
   "cell_type": "code",
   "execution_count": null,
   "metadata": {},
   "outputs": [],
   "source": []
  }
 ],
 "metadata": {
  "kernelspec": {
   "display_name": "Python 3",
   "language": "python",
   "name": "python3"
  },
  "language_info": {
   "codemirror_mode": {
    "name": "ipython",
    "version": 3
   },
   "file_extension": ".py",
   "mimetype": "text/x-python",
   "name": "python",
   "nbconvert_exporter": "python",
   "pygments_lexer": "ipython3",
   "version": "3.5.3"
  }
 },
 "nbformat": 4,
 "nbformat_minor": 2
}
