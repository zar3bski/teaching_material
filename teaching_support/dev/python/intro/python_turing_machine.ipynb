{
 "cells": [
  {
   "cell_type": "markdown",
   "metadata": {},
   "source": [
    "# Machine de Turing\n",
    "\n",
    "Implémentation d'une addition unaire. La liste `I` fait office de ruban mémoire"
   ]
  },
  {
   "cell_type": "code",
   "execution_count": 1,
   "metadata": {},
   "outputs": [],
   "source": [
    "I =        [\" \",\" \", \"1\",\"1\",\"+\",\"1\",\"1\",\"1\",\"1\",\" \"]\n",
    "\n",
    "Expected = [\" \",\" \",\"1\",\"1\",\"1\",\"1\",\"1\",\"1\",\" \", \" \"]"
   ]
  },
  {
   "cell_type": "code",
   "execution_count": 2,
   "metadata": {},
   "outputs": [
    {
     "data": {
      "text/plain": [
       "False"
      ]
     },
     "execution_count": 2,
     "metadata": {},
     "output_type": "execute_result"
    }
   ],
   "source": [
    " a,b = \"\", \" \" \n",
    "bool(a==b)"
   ]
  },
  {
   "cell_type": "code",
   "execution_count": 5,
   "metadata": {},
   "outputs": [
    {
     "name": "stdout",
     "output_type": "stream",
     "text": [
      "[' ', '1', '1', '+', '1', '1', '1', '1', ' '] 1\n",
      "[' ', '1', '1', '+', '1', '1', '1', '1', ' '] 2\n",
      "[' ', '1', '1', '+', '1', '1', '1', '1', ' '] 3\n",
      "[' ', '1', '1', '1', '1', '1', '1', '1', ' '] 4\n",
      "[' ', '1', '1', '1', '1', '1', '1', '1', ' '] 5\n",
      "[' ', '1', '1', '1', '1', '1', '1', '1', ' '] 6\n",
      "[' ', '1', '1', '1', '1', '1', '1', '1', ' '] 7\n",
      "[' ', '1', '1', '1', '1', '1', '1', '1', ' '] 8\n",
      "[' ', '1', '1', '1', '1', '1', '1', ' ', ' '] 7\n"
     ]
    }
   ],
   "source": [
    "while True:\n",
    "    n = 0\n",
    "    while I[n] ==\" \":\n",
    "        n = n+1\n",
    "        print(I,n)\n",
    "    if I[n] ==\"1\":\n",
    "        while I[n] ==\"1\":\n",
    "            n = n+1\n",
    "            print(I,n)\n",
    "        if I[n] ==\"+\":\n",
    "            I[n] =\"1\"\n",
    "            while I[n] ==\"1\":\n",
    "                n = n+1\n",
    "                print(I,n)\n",
    "            if I[n] == \" \":\n",
    "                n = n-1\n",
    "                I[n] = \" \"\n",
    "                print(I,n)\n",
    "                break\n",
    "            "
   ]
  },
  {
   "cell_type": "code",
   "execution_count": null,
   "metadata": {},
   "outputs": [],
   "source": []
  }
 ],
 "metadata": {
  "kernelspec": {
   "display_name": "Python 3",
   "language": "python",
   "name": "python3"
  },
  "language_info": {
   "codemirror_mode": {
    "name": "ipython",
    "version": 3
   },
   "file_extension": ".py",
   "mimetype": "text/x-python",
   "name": "python",
   "nbconvert_exporter": "python",
   "pygments_lexer": "ipython3",
   "version": "3.5.3"
  }
 },
 "nbformat": 4,
 "nbformat_minor": 2
}
