{
 "cells": [
  {
   "cell_type": "markdown",
   "metadata": {},
   "source": [
    "# Création de fonctions et utilisation de librairies\n",
    "\n",
    "![Fonction](https://upload.wikimedia.org/wikipedia/commons/thumb/3/3b/Function_machine2.svg/220px-Function_machine2.svg.png)\n",
    "\n",
    "\"Fonction\" est un terme générique désignant un algorithme capable d'associer à chaque entrée (input) une sortie (output). En python, on défini une fonction avec \"def\""
   ]
  },
  {
   "cell_type": "code",
   "execution_count": null,
   "metadata": {},
   "outputs": [],
   "source": [
    "def Combine(x,y):\n",
    "    comb = []\n",
    "    for n in x:\n",
    "        for m in y:\n",
    "            comb.append((n,m))\n",
    "    return(comb)"
   ]
  },
  {
   "cell_type": "code",
   "execution_count": null,
   "metadata": {},
   "outputs": [],
   "source": [
    "def CombineComprehension(x,y):\n",
    "    comb = [(n,m) for n in x for m in y]\n",
    "    return(comb)"
   ]
  },
  {
   "cell_type": "code",
   "execution_count": null,
   "metadata": {},
   "outputs": [],
   "source": [
    "a = [1,5,6,8,4,5,1]\n",
    "b = [\"a\",\"s\",\"d\",\"d\",\"g\",\"f\",\"g\"]\n",
    "c = [\"i\",\"y\",\"o\"]\n",
    "\n",
    "Combine(a,c)"
   ]
  },
  {
   "cell_type": "markdown",
   "metadata": {},
   "source": [
    "## Benchmarking\n",
    "\n",
    "comparons les méthodes boucle -> append VS définition par compréhension"
   ]
  },
  {
   "cell_type": "code",
   "execution_count": null,
   "metadata": {},
   "outputs": [],
   "source": [
    "import time"
   ]
  },
  {
   "cell_type": "code",
   "execution_count": null,
   "metadata": {},
   "outputs": [],
   "source": [
    "TPSSimple =[]\n",
    "for i in range(1000): \n",
    "    start = time.time()\n",
    "    for i in range(10000):\n",
    "        Combine(a,c)\n",
    "    stop = time.time()\n",
    "    \n",
    "    TPSSimple.append(stop-start)"
   ]
  },
  {
   "cell_type": "code",
   "execution_count": null,
   "metadata": {},
   "outputs": [],
   "source": [
    "TPSCompr =[]\n",
    "for i in range(1000): \n",
    "    start = time.time()\n",
    "    for i in range(10000):\n",
    "        CombineComprehension(a,c)\n",
    "    stop = time.time()\n",
    "    \n",
    "    TPSCompr.append(stop-start)"
   ]
  },
  {
   "cell_type": "code",
   "execution_count": null,
   "metadata": {},
   "outputs": [],
   "source": [
    "sum(TPSSimple)/len(TPSSimple)"
   ]
  },
  {
   "cell_type": "code",
   "execution_count": null,
   "metadata": {},
   "outputs": [],
   "source": [
    "sum(TPSCompr)/len(TPSCompr)"
   ]
  },
  {
   "cell_type": "markdown",
   "metadata": {},
   "source": [
    "Le rôle des fonctions n'a de limite que notre imagination. Au lieu de nombres, de chaîne de caractères, etc, Nous pourrions tout aussi bien itérer des opérations sur des objets d'autre nature comme des i)des URLs, ii) des addresses ip etc etc. \n",
    "\n",
    "Les librairies consistent en dernière instance en une collection de fonctions génériques déjà écrites par d'autres qui permettent de développer plus facilement des applications nouvelles. Nous allons nous intéresser à la librairie <a href=\"https://docs.python.org/3.0/library/socket.html\">socket</a>. On importe une librairie à avec <b>import</b>"
   ]
  },
  {
   "cell_type": "code",
   "execution_count": null,
   "metadata": {},
   "outputs": [],
   "source": [
    "import socket\n",
    "#help(socket)"
   ]
  },
  {
   "cell_type": "markdown",
   "metadata": {},
   "source": [
    "Nous allons construire un exemple simple de relation serveur/client"
   ]
  },
  {
   "cell_type": "code",
   "execution_count": null,
   "metadata": {},
   "outputs": [],
   "source": [
    "import socket\n",
    "sock  = socket.socket(socket.AF_INET, socket.SOCK_STREAM) ### Serveur\n",
    "sock.bind(('', 15555))\n",
    "\n",
    "while True:\n",
    "        sock.listen(5)\n",
    "        client, address = sock.accept()\n",
    "        print(\"{} connected\".format( address ))\n",
    "\n",
    "        response = client.recv(1024)\n",
    "        if response != \"\":\n",
    "                print(response)\n",
    "                #break\n",
    "\n",
    "print(\"Close\")\n",
    "client.close()\n",
    "sock.close()"
   ]
  },
  {
   "cell_type": "code",
   "execution_count": null,
   "metadata": {},
   "outputs": [],
   "source": [
    "sock.close()"
   ]
  },
  {
   "cell_type": "code",
   "execution_count": 5,
   "metadata": {},
   "outputs": [
    {
     "name": "stdout",
     "output_type": "stream",
     "text": [
      "Close\n"
     ]
    }
   ],
   "source": [
    "import socket\n",
    "import random\n",
    "hote = \"192.168.1.251\"      # client\n",
    "port = 15555\n",
    "hexa = [\"1\",\"2\",\"3\",\"4\",\"5\",\"6\",\"7\",\"8\",\"9\",\"0\",\"a\",\"b\",\"c\",\"d\",\"e\",\"f\"]\n",
    "PSW = []\n",
    "for i in hexa:\n",
    "    for j in hexa:\n",
    "        for k in hexa:\n",
    "            for l in hexa:\n",
    "                PSW.append(i+j+k+l)\n",
    "random.shuffle(PSW)\n",
    "PSW\n",
    "\n",
    "#PSW = [\"9a5c\"]\n",
    "for p in PSW:\n",
    "    sock = socket.socket(socket.AF_INET, socket.SOCK_STREAM)\n",
    "    sock.connect((hote, port))\n",
    "    #print \"Connection on {}\".format(port)\n",
    "    sock.send(p.encode('utf-8'))\n",
    "    print(\"Close\")\n",
    "    sock.close()\n",
    "    del sock"
   ]
  },
  {
   "cell_type": "code",
   "execution_count": null,
   "metadata": {},
   "outputs": [],
   "source": []
  },
  {
   "cell_type": "code",
   "execution_count": null,
   "metadata": {},
   "outputs": [],
   "source": [
    "socket.close()"
   ]
  },
  {
   "cell_type": "markdown",
   "metadata": {},
   "source": [
    "Maintenant, pingez moi!\n"
   ]
  },
  {
   "cell_type": "markdown",
   "metadata": {},
   "source": [
    "## Création de fonction spécialisées à plusieurs arguments\n",
    "\n",
    "Transposez l'exemple ci dessus pour créer une fonction TryAuth (Client) à 4 arguments\n",
    "<ul>\n",
    "<li> hote\n",
    "<li> port\n",
    "<li> id\n",
    "<li> password\n",
    "</ul>\n",
    "\n",
    "Concevez maintenant un simple algorithme d'attaque par force brute pour \"craquer\" mon serveur. Vous disposez toutefois de quelques informations:\n",
    "<ul>\n",
    "<li> le mot de passe fait 5 caractère\n",
    "<li> il commence et finit par des lettres\n",
    "</ul>"
   ]
  },
  {
   "cell_type": "markdown",
   "metadata": {},
   "source": [
    "## Intéractions avec l'OS\n",
    "\n",
    "Une fonction intéressante pour un administrateur et aisément implémentable avec python consisterait à concevoir un serveur capable, par ordre croissant de difficulté:\n",
    "<ul>\n",
    "<li> d'envoyer les logs d'un système (étape 1)\n",
    "<li> d'envoyer les logs d'un système en cas d'erreur d'un certain type (étape 2)\n",
    "<li> d'envoyer par SMS les logs d'un système en cas d'erreur d'un certain type\n",
    "</ul>\n",
    "\n",
    "Voyons d'abord comment ouvrir et envoyer les logs. Nous allons nous servir de la librairie OS"
   ]
  },
  {
   "cell_type": "code",
   "execution_count": 1,
   "metadata": {},
   "outputs": [],
   "source": [
    "import os"
   ]
  },
  {
   "cell_type": "code",
   "execution_count": 7,
   "metadata": {},
   "outputs": [
    {
     "data": {
      "text/plain": [
       "['apport.log',\n",
       " 'fontconfig.log',\n",
       " 'dpkg.log.8.gz',\n",
       " 'wtmp',\n",
       " 'kern.log.2.gz',\n",
       " 'alternatives.log.1',\n",
       " 'upstart',\n",
       " 'apport.log.6.gz',\n",
       " 'boot.log',\n",
       " 'dpkg.log',\n",
       " 'apport.log.3.gz',\n",
       " 'apt',\n",
       " 'unattended-upgrades',\n",
       " 'auth.log',\n",
       " 'syslog.7.gz',\n",
       " 'wtmp.1',\n",
       " 'speech-dispatcher',\n",
       " 'dpkg.log.4.gz',\n",
       " 'alternatives.log',\n",
       " 'apport.log.5.gz',\n",
       " 'syslog.4.gz',\n",
       " 'fsck',\n",
       " 'alternatives.log.5.gz',\n",
       " 'auth.log.1',\n",
       " 'dmesg',\n",
       " 'kern.log',\n",
       " 'syslog.6.gz',\n",
       " 'gpu-manager.log',\n",
       " 'alternatives.log.2.gz',\n",
       " 'dpkg.log.1',\n",
       " 'alternatives.log.6.gz',\n",
       " 'alternatives.log.4.gz',\n",
       " 'kern.log.1',\n",
       " 'auth.log.4.gz',\n",
       " 'faillog',\n",
       " 'btmp.1',\n",
       " 'bootstrap.log',\n",
       " 'syslog.5.gz',\n",
       " 'apport.log.1',\n",
       " 'dpkg.log.2.gz',\n",
       " 'auth.log.3.gz',\n",
       " 'apport.log.2.gz',\n",
       " 'Xorg.0.log.old',\n",
       " 'lightdm',\n",
       " 'dpkg.log.6.gz',\n",
       " 'syslog.3.gz',\n",
       " 'kern.log.4.gz',\n",
       " 'kern.log.3.gz',\n",
       " 'cups',\n",
       " 'syslog.1',\n",
       " 'apport.log.7.gz',\n",
       " 'alternatives.log.3.gz',\n",
       " 'prime-supported.log',\n",
       " 'prime-offload.log',\n",
       " 'syslog',\n",
       " 'alternatives.log.7.gz',\n",
       " 'installer',\n",
       " 'btmp',\n",
       " 'hp',\n",
       " 'Xorg.0.log',\n",
       " 'dpkg.log.7.gz',\n",
       " 'apport.log.4.gz',\n",
       " 'Xorg.1.log',\n",
       " 'dpkg.log.5.gz',\n",
       " 'alternatives.log.8.gz',\n",
       " 'syslog.2.gz',\n",
       " 'dpkg.log.3.gz',\n",
       " 'auth.log.2.gz',\n",
       " 'lastlog',\n",
       " 'dist-upgrade']"
      ]
     },
     "execution_count": 7,
     "metadata": {},
     "output_type": "execute_result"
    }
   ],
   "source": [
    "os.listdir(\"/var/log\")"
   ]
  },
  {
   "cell_type": "markdown",
   "metadata": {},
   "source": [
    "Nous allons nous intéresser préférenciellement au syslog"
   ]
  },
  {
   "cell_type": "code",
   "execution_count": 5,
   "metadata": {},
   "outputs": [],
   "source": [
    "log = open('/var/log/syslog', 'r')\n",
    "log = log.read()"
   ]
  },
  {
   "cell_type": "code",
   "execution_count": 34,
   "metadata": {},
   "outputs": [],
   "source": [
    "log\n",
    "logSplit = log.split(\"\\n\")\n",
    "dixPremieres = logSplit[0:9]\n",
    "dixPremieres = logSplit[:10]\n",
    "dixDernieres = logSplit[-10:]\n"
   ]
  },
  {
   "cell_type": "markdown",
   "metadata": {},
   "source": [
    "Créons maintenant nos serveur et clients"
   ]
  },
  {
   "cell_type": "code",
   "execution_count": null,
   "metadata": {},
   "outputs": [],
   "source": [
    "import socket\n",
    "sock  = socket.socket(socket.AF_INET, socket.SOCK_STREAM) ### Serveur\n",
    "sock.bind(('', 15555))\n",
    "\n",
    "log = open('/var/log/syslog', 'r')\n",
    "log = log.read()\n",
    "logSplit = log.split(\"\\n\")\n",
    "\n",
    "while True:\n",
    "        sock.listen(5)\n",
    "        client, address = sock.accept()\n",
    "        print(\"{} connected\".format( address ))\n",
    "\n",
    "        req = client.recv(1024)\n",
    "        if req == \"send log\":\n",
    "                sock.send(logSplit[-10:].encode('utf-8'))\n",
    "\n",
    "print(\"Close\")\n",
    "client.close()\n",
    "sock.close()"
   ]
  },
  {
   "cell_type": "code",
   "execution_count": null,
   "metadata": {},
   "outputs": [],
   "source": [
    "import socket\n",
    "hote = \"192.168.1.251\"      # client\n",
    "port = 15555\n",
    "\n",
    "sock = socket.socket(socket.AF_INET, socket.SOCK_STREAM)\n",
    "sock.connect((hote, port))\n",
    "#print \"Connection on {}\".format(port)\n",
    "sock.send(\"send log\".encode('utf-8'))\n",
    "print(\"log sent\")\n",
    "\n",
    "sock.listen(5)\n",
    "server, address = sock.accept()\n",
    "\n",
    "response = server.recv(1024)\n",
    "        if response != \"\":\n",
    "                print(response)\n",
    "\n",
    "sock.close()\n",
    "del sock"
   ]
  }
 ],
 "metadata": {
  "kernelspec": {
   "display_name": "Python 3",
   "language": "python",
   "name": "python3"
  },
  "language_info": {
   "codemirror_mode": {
    "name": "ipython",
    "version": 3
   },
   "file_extension": ".py",
   "mimetype": "text/x-python",
   "name": "python",
   "nbconvert_exporter": "python",
   "pygments_lexer": "ipython3",
   "version": "3.5.2"
  }
 },
 "nbformat": 4,
 "nbformat_minor": 2
}
