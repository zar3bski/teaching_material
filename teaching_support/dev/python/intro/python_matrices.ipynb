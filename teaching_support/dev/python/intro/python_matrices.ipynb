{
 "cells": [
  {
   "cell_type": "markdown",
   "metadata": {},
   "source": [
    "# Les tableaux en Python: une brève initiation à la vectorisation\n",
    "\n",
    "Nous avions jusque là effectué nos opérations sur des listes. Deux limitations inhérentes à cette approche: \n",
    "<ul>\n",
    "<li> les listes ne structurent les données que le long d'<b>une seule dimension</b>. Or, certaines données mériteraient d'être représentées autrement afin de penser nos opérations différemment (eg. les valeurs rgb d'une image .png (matrice: h x l x 3) pour un lissage gaussien)\n",
    "<li> les boucles ralentissent l'éxécution du code \n",
    "</ul>\n",
    "\n",
    "Il existe deux librairies pour créer des objets de ce type en python: <a href=\"http://pandas.pydata.org/\">pandas</a> et <a href=\"http://www.numpy.org/\">numpy</a>. Nous allons nous concentrer sur numpy"
   ]
  },
  {
   "cell_type": "code",
   "execution_count": 1,
   "metadata": {
    "collapsed": true
   },
   "outputs": [],
   "source": [
    "import numpy as np\n",
    "l = [1,5,1,5,9,1,7,8]"
   ]
  },
  {
   "cell_type": "markdown",
   "metadata": {},
   "source": [
    "Les objets de numpy s'appellent des arrays (traduit parfois par \"matrice\" ou, improprement \"tableau\"). Créons en quelques unes pour comprendre la logique sous-jacente. "
   ]
  },
  {
   "cell_type": "code",
   "execution_count": null,
   "metadata": {
    "collapsed": true
   },
   "outputs": [],
   "source": [
    "lAsMatrix = np.array(l)\n",
    "lAsMatrix"
   ]
  },
  {
   "cell_type": "code",
   "execution_count": null,
   "metadata": {
    "collapsed": true
   },
   "outputs": [],
   "source": [
    "mAsMatrix = np.array([[1,5,1,5],[9,1,7,8]])\n",
    "mAsMatrix"
   ]
  },
  {
   "cell_type": "markdown",
   "metadata": {},
   "source": [
    "Notez que mAsMatrix ressemble à une structure de listes enchassées. Cette ressemblance n'est que superficielle. En effet, les matrices peuvent avoir plus d'une dimension."
   ]
  },
  {
   "cell_type": "code",
   "execution_count": null,
   "metadata": {
    "collapsed": true
   },
   "outputs": [],
   "source": [
    "print(\"lAsMatrix a \",lAsMatrix.ndim,\" dimension\")\n",
    "print(\"mAsMatrix a \",mAsMatrix.ndim,\" dimension\")"
   ]
  },
  {
   "cell_type": "markdown",
   "metadata": {},
   "source": [
    "ce dont nous nous rendons bien compte en récupérant la <b>forme</b> de ces matrices"
   ]
  },
  {
   "cell_type": "code",
   "execution_count": null,
   "metadata": {
    "collapsed": true
   },
   "outputs": [],
   "source": [
    "print(\"forme de lAsMatrix \" , lAsMatrix.shape)\n",
    "print(\"forme de mAsMatrix \" , mAsMatrix.shape)"
   ]
  },
  {
   "cell_type": "markdown",
   "metadata": {},
   "source": [
    "Notez au passage cette subtile différence: "
   ]
  },
  {
   "cell_type": "code",
   "execution_count": null,
   "metadata": {
    "collapsed": true
   },
   "outputs": [],
   "source": [
    "n = np.array([1,2,3])\n",
    "o = np.array([[1,2,3]])\n",
    "\n"
   ]
  },
  {
   "cell_type": "code",
   "execution_count": null,
   "metadata": {
    "collapsed": true,
    "scrolled": false
   },
   "outputs": [],
   "source": [
    "a =  np.random.randint(0,8,(10,2))\n",
    "a"
   ]
  },
  {
   "cell_type": "code",
   "execution_count": null,
   "metadata": {
    "collapsed": true
   },
   "outputs": [],
   "source": [
    "b = np.sum(a, axis =0)\n",
    "b"
   ]
  },
  {
   "cell_type": "code",
   "execution_count": null,
   "metadata": {
    "collapsed": true
   },
   "outputs": [],
   "source": [
    "c = np.prod(a, axis=0)\n",
    "c"
   ]
  },
  {
   "cell_type": "markdown",
   "metadata": {
    "collapsed": true
   },
   "source": [
    "$f(x,y,z)= \\frac{x^{2}-\\sqrt{y}}{\\sqrt{x+y}} \\times z$"
   ]
  },
  {
   "cell_type": "code",
   "execution_count": 2,
   "metadata": {
    "collapsed": false
   },
   "outputs": [
    {
     "data": {
      "text/plain": [
       "array([[ 0.70253734,  0.40894409,  0.09359219],\n",
       "       [ 0.52803766,  0.68252483,  0.1014449 ],\n",
       "       [ 0.82985566,  0.00350805,  0.28850899],\n",
       "       ..., \n",
       "       [ 0.99344143,  0.3287492 ,  0.64537013],\n",
       "       [ 0.06232829,  0.61176311,  0.14860498],\n",
       "       [ 0.61523503,  0.61606332,  0.99400644]])"
      ]
     },
     "execution_count": 2,
     "metadata": {},
     "output_type": "execute_result"
    }
   ],
   "source": [
    "dataTest = np.random.rand(600000,3) # on génère 600000*3 points de données x,y,z (vecteur 2-D)\n",
    "dataTestAsList = dataTest.tolist()  # on en fait une liste pour les besoins de l'exemple\n",
    "dataTest"
   ]
  },
  {
   "cell_type": "code",
   "execution_count": null,
   "metadata": {
    "collapsed": true
   },
   "outputs": [],
   "source": [
    "import math\n",
    "import time\n",
    "results = []\n",
    "start =  time.time()\n",
    "for y in dataTestAsList: \n",
    "    result = (y[0]**2 - math.sqrt(y[1]))*y[2]/math.sqrt(y[0]+y[1])\n",
    "    results.append(result)\n",
    "stop  = time.time()\n",
    "\n",
    "print(stop-start)"
   ]
  },
  {
   "cell_type": "code",
   "execution_count": null,
   "metadata": {
    "collapsed": true
   },
   "outputs": [],
   "source": [
    "x = dataTest[:,0]\n",
    "y = dataTest[:,1]\n",
    "z = dataTest[:,2]\n",
    "start =  time.time()\n",
    "results = np.multiply(np.divide(np.power(x,2) - np.sqrt(y) ,np.sqrt(x+y) ),z)\n",
    "stop = time.time()\n",
    "print(stop-start)"
   ]
  },
  {
   "cell_type": "code",
   "execution_count": null,
   "metadata": {
    "collapsed": true
   },
   "outputs": [],
   "source": []
  },
  {
   "cell_type": "code",
   "execution_count": null,
   "metadata": {
    "collapsed": true
   },
   "outputs": [],
   "source": [
    "ordres = np.array([[\"attaque\",3],[\"repli\",4]])\n",
    "ordres"
   ]
  },
  {
   "cell_type": "code",
   "execution_count": null,
   "metadata": {
    "collapsed": true
   },
   "outputs": [],
   "source": [
    "def Cypher(s,n): \n",
    "    return(''.join([chr(ord(i)+n) for i in s]))"
   ]
  },
  {
   "cell_type": "code",
   "execution_count": null,
   "metadata": {
    "collapsed": true
   },
   "outputs": [],
   "source": [
    "CypherVec = np.vectorize(Cypher)"
   ]
  },
  {
   "cell_type": "code",
   "execution_count": null,
   "metadata": {
    "collapsed": true
   },
   "outputs": [],
   "source": [
    "np.apply_over_axes(CypherVec, ordres, 1)"
   ]
  },
  {
   "cell_type": "code",
   "execution_count": null,
   "metadata": {
    "collapsed": true
   },
   "outputs": [],
   "source": [
    "from multiprocessing.dummy import Pool as ThreadPool \n",
    "poule = ThreadPool(4) # on crée 4 tâches parallèles\n",
    "\n",
    "poule.map(CypherVec, )"
   ]
  },
  {
   "cell_type": "code",
   "execution_count": null,
   "metadata": {
    "collapsed": true
   },
   "outputs": [],
   "source": [
    "marques"
   ]
  },
  {
   "cell_type": "code",
   "execution_count": null,
   "metadata": {
    "collapsed": true
   },
   "outputs": [],
   "source": [
    "fstab = open(\"fstab\",\"r\")\n",
    "fstab.read()"
   ]
  },
  {
   "cell_type": "code",
   "execution_count": null,
   "metadata": {
    "collapsed": true
   },
   "outputs": [],
   "source": [
    "mat = np.genfromtxt(\"fstab\", dtype=\"str\")"
   ]
  },
  {
   "cell_type": "code",
   "execution_count": null,
   "metadata": {
    "collapsed": true
   },
   "outputs": [],
   "source": [
    "mat"
   ]
  },
  {
   "cell_type": "code",
   "execution_count": null,
   "metadata": {
    "collapsed": true
   },
   "outputs": [],
   "source": [
    "import random\n",
    "I= [chr(random.randint(97,122)) for x in range(20)]\n",
    "''.join(I)"
   ]
  },
  {
   "cell_type": "code",
   "execution_count": null,
   "metadata": {
    "collapsed": true
   },
   "outputs": [],
   "source": [
    "J = np.random.randint(0,9,20).tolist()\n",
    "J"
   ]
  },
  {
   "cell_type": "code",
   "execution_count": null,
   "metadata": {
    "collapsed": true
   },
   "outputs": [],
   "source": [
    "LI = [\"bsjhqxbq;ihu\",\"nksnq;oi\",\"ibqbiaubdi;nkjn\"]\n",
    "LI = [s.split(\";\")[0][2:] for s in LI]\n",
    "\n",
    "LI"
   ]
  },
  {
   "cell_type": "code",
   "execution_count": null,
   "metadata": {
    "collapsed": true
   },
   "outputs": [],
   "source": []
  },
  {
   "cell_type": "code",
   "execution_count": null,
   "metadata": {
    "collapsed": true
   },
   "outputs": [],
   "source": []
  }
 ],
 "metadata": {
  "kernelspec": {
   "display_name": "Python 3",
   "language": "python",
   "name": "python3"
  },
  "language_info": {
   "codemirror_mode": {
    "name": "ipython",
    "version": 3
   },
   "file_extension": ".py",
   "mimetype": "text/x-python",
   "name": "python",
   "nbconvert_exporter": "python",
   "pygments_lexer": "ipython3",
   "version": "3.5.3"
  }
 },
 "nbformat": 4,
 "nbformat_minor": 2
}
