{
 "cells": [
  {
   "cell_type": "markdown",
   "metadata": {},
   "source": [
    "# Python initiation: Examen final\n",
    "\n",
    "Compléter le notebook suivant avant de <a href=\"mailto:zarebskidavid@gmail.com?subject=ExamPythonIntro\"> me l'envoyer </a> avant midi. \n",
    "\n",
    "## Le python de base: création, manipulation d'objets et algorithmes de recherche\n",
    "Commencez par ouvrir le fichier SnD.txt"
   ]
  },
  {
   "cell_type": "code",
   "execution_count": null,
   "metadata": {
    "collapsed": true
   },
   "outputs": [],
   "source": [
    "o = None # CODE A COMPLETER\n",
    "\n",
    "\n",
    "type(o)"
   ]
  },
  {
   "cell_type": "markdown",
   "metadata": {},
   "source": [
    "[expected output: ] <code>str</code>\n",
    "\n",
    "Visualisez maintenant o avec la methode de votre choix"
   ]
  },
  {
   "cell_type": "code",
   "execution_count": null,
   "metadata": {
    "collapsed": true
   },
   "outputs": [],
   "source": [
    "None # CODE A COMPLETER"
   ]
  },
  {
   "cell_type": "markdown",
   "metadata": {},
   "source": [
    "Vous devez remarquer les \"\\n\"; symboles de retour à la ligne (aussi appelés \"retour chariot\"). Avec la méthode <b>split</b> (vue en cours), créez une liste de chaque ligne du fichier source (NB: cette méthode ne marchera que si <b>o</b> est du bon <b>type</b>)"
   ]
  },
  {
   "cell_type": "code",
   "execution_count": null,
   "metadata": {
    "collapsed": true
   },
   "outputs": [],
   "source": [
    "lines = None # CODE A COMPLETER\n",
    "len(lines)"
   ]
  },
  {
   "cell_type": "markdown",
   "metadata": {},
   "source": [
    "[expected output: ] <code>8</code>\n",
    "\n",
    "En soi, seuls les noms de domaines nous intéressent. Nous allons trouver un moyen de virer tous les \":HSTS blabla\" pour ne garder que les noms de domaines que nous stockerons dans la liste (domains). \n",
    "\n",
    "Un moyen simple de le faire consiste à itérer la méthode <a href=\"https://www.tutorialspoint.com/python/string_split.htm\">split</a> sur chaque élément de lines et ne garder que la première partie (<b>indice</b> vous allez avoir besoin d'un <b>[0]</b> quelque part)\n",
    "\n"
   ]
  },
  {
   "cell_type": "code",
   "execution_count": null,
   "metadata": {
    "collapsed": true
   },
   "outputs": [],
   "source": [
    "domains = []\n",
    "for line in lines:                \n",
    "    None # CODE A COMPLETER\n",
    "domains[1]"
   ]
  },
  {
   "cell_type": "markdown",
   "metadata": {},
   "source": [
    "[expected output: ] <code>www.researchgate.net</code>\n",
    "\n",
    "Faite maintenant la même chose en définissant domains <b>par compréhension</b> (juste parce que c'est classe)"
   ]
  },
  {
   "cell_type": "code",
   "execution_count": null,
   "metadata": {
    "collapsed": true
   },
   "outputs": [],
   "source": [
    "domains = None # CODE A COMPLETER\n",
    "domains"
   ]
  },
  {
   "cell_type": "markdown",
   "metadata": {},
   "source": [
    "Assurez vous de bien avoir .....\n",
    "<code>\n",
    "['books.google.fr',\n",
    " 'www.researchgate.net',\n",
    " 'deepblue.lib.umich.edu',\n",
    " 'www.google-analytics.com',\n",
    " 'ssl.google-analytics.com',\n",
    " 'www.zotero.org',\n",
    " 'apis.google.com',\n",
    " '']\n",
    "</code>\n",
    "...... pour la suite de l'exercice (au besoin, si vous n'avez pas réussi les exercices précédents, définissez la liste à la main)\n",
    "\n",
    "Nous allons maintenant pinger ces addresses pour nous assurer que ces domaines existent bel et bien. Nous allons pour cela utiliser une fonction de la librairie socket que je vous donne:\n",
    "<code>socket.gethostbyname()</code>\n",
    "\n",
    "Concevez une fonction GetIp capable de trouver l'ip d'un nom de domaine. En cas d'ip = 0.0.0.0 la fonction devra renvoyer <b>None</b> (Attention None, pas \"None\")"
   ]
  },
  {
   "cell_type": "code",
   "execution_count": null,
   "metadata": {
    "collapsed": true
   },
   "outputs": [],
   "source": [
    "import socket\n",
    "\n",
    "def GetIp(hostname): \n",
    "    None # CODE A COMPLETER\n",
    "    None # CODE A COMPLETER\n",
    "    None # CODE A COMPLETER\n",
    "    None # CODE A COMPLETER\n",
    "    None # CODE A COMPLETER"
   ]
  },
  {
   "cell_type": "code",
   "execution_count": null,
   "metadata": {
    "collapsed": true
   },
   "outputs": [],
   "source": [
    "Ips = [GetIp(i) for i in domains]\n",
    "Ips"
   ]
  },
  {
   "cell_type": "markdown",
   "metadata": {},
   "source": [
    "[expected output]\n",
    "<code>\n",
    "['216.58.204.142',\n",
    " '18.194.68.40',\n",
    " '141.213.128.168',\n",
    " '216.58.204.142',\n",
    " '216.58.208.232',\n",
    " '52.2.16.69',\n",
    " '216.58.204.142',\n",
    " None]\n",
    "</code>"
   ]
  },
  {
   "cell_type": "markdown",
   "metadata": {},
   "source": [
    "## Allons un peu plus loin avec des objets \"mieux\" structurés\n",
    "\n",
    "Les listes, c'est bien gentil mais nous aurions pu(du) faire un tableau. Commençons par importer de nouveau nos données"
   ]
  },
  {
   "cell_type": "code",
   "execution_count": null,
   "metadata": {
    "collapsed": true
   },
   "outputs": [],
   "source": [
    "import numpy as np"
   ]
  },
  {
   "cell_type": "code",
   "execution_count": null,
   "metadata": {
    "collapsed": true
   },
   "outputs": [],
   "source": [
    "matrice = np.genfromtxt(\"SnD.txt\",dtype=\"str\")\n",
    "matrice"
   ]
  },
  {
   "cell_type": "markdown",
   "metadata": {},
   "source": [
    "assurons nous de la forme de notre matrice"
   ]
  },
  {
   "cell_type": "code",
   "execution_count": null,
   "metadata": {
    "collapsed": true
   },
   "outputs": [],
   "source": [
    "None # CODE A COMPLETER"
   ]
  },
  {
   "cell_type": "markdown",
   "metadata": {},
   "source": [
    "[expected output] <code>(7, 4)</code>\n",
    "\n",
    "Nous avons encore un petit problème: nos noms de domaine (colonne de gauche) se terminent par :HSTS"
   ]
  },
  {
   "cell_type": "code",
   "execution_count": null,
   "metadata": {
    "collapsed": true
   },
   "outputs": [],
   "source": [
    "matrice[:,0] = np.char.rstrip(matrice[:,0],':HSTS')\n",
    "matrice"
   ]
  },
  {
   "cell_type": "markdown",
   "metadata": {},
   "source": [
    "définissons notre 5 ème colonne à l'aide de notre fonction GetIp (définie plus haut) vectorisée. Nous allons pour cela utiliser la fonction \n",
    "<a href='https://docs.scipy.org/doc/numpy-1.13.0/reference/generated/numpy.apply_along_axis.html'>np.apply_along_axis</a> \n",
    "et l'appliquer sur notre première colonne (matrice[:,0])"
   ]
  },
  {
   "cell_type": "code",
   "execution_count": null,
   "metadata": {
    "collapsed": true
   },
   "outputs": [],
   "source": [
    "GetIpVect = np.vectorize(GetIp)  # fonction à utiliser"
   ]
  },
  {
   "cell_type": "code",
   "execution_count": null,
   "metadata": {
    "collapsed": true
   },
   "outputs": [],
   "source": [
    "IpsVec = None # CODE A COMPLETER"
   ]
  },
  {
   "cell_type": "code",
   "execution_count": null,
   "metadata": {
    "collapsed": true
   },
   "outputs": [],
   "source": [
    "matrice = np.hstack((matrice,IpsVec.reshape(7,-1))) # on concatène cette colonne à la matrice\n",
    "matrice"
   ]
  },
  {
   "cell_type": "markdown",
   "metadata": {},
   "source": [
    "## Envoi de cette matrice de données à un serveur distant\n",
    "\n",
    "Dans cette section, je ne vous demande pas tant de concevoir la relation serveur-client que de pointer les erreurs dans le code source du serveur et du client à l'aide de commentaires. Il y en a 3."
   ]
  },
  {
   "cell_type": "code",
   "execution_count": null,
   "metadata": {
    "collapsed": true
   },
   "outputs": [],
   "source": [
    "import socket\n",
    "sock  = socket.socket(socket.AF_INET, socket.SOCK_STREAM) ### Serveur\n",
    "sock.bind(('', 15555))\n",
    "\n",
    "while True: \n",
    "    sock.listen(5)\n",
    "    client, address = sock.accept() \n",
    "    print(\"{} connected\".format( address ))\n",
    "\n",
    "    data = client.recv(1024)\n",
    "    if data != \"\":\n",
    "        client.close()\n",
    "        sock.close()\n",
    "        del sock\n",
    "        break"
   ]
  },
  {
   "cell_type": "code",
   "execution_count": null,
   "metadata": {
    "collapsed": true
   },
   "outputs": [],
   "source": [
    "import socket\n",
    "host = \"216.58.210.200\"\n",
    "sock = socket.socket(socket.AF_INET, socket.SOCK_STREAM) ### client\n",
    "sock.connect(host)\n",
    "\n",
    "sock.send(matrice.encode('utf-8'))\n",
    "print(\"data sent\")"
   ]
  }
 ],
 "metadata": {
  "kernelspec": {
   "display_name": "Python 3",
   "language": "python",
   "name": "python3"
  },
  "language_info": {
   "codemirror_mode": {
    "name": "ipython",
    "version": 3
   },
   "file_extension": ".py",
   "mimetype": "text/x-python",
   "name": "python",
   "nbconvert_exporter": "python",
   "pygments_lexer": "ipython3",
   "version": "3.5.2"
  }
 },
 "nbformat": 4,
 "nbformat_minor": 2
}
